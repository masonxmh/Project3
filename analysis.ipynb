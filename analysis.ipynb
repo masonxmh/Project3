{
 "cells": [
  {
   "cell_type": "markdown",
   "metadata": {},
   "source": [
    "## Introduction\n",
    "\n",
    "In this notebook, we will take an initial look at the Home Credit default risk machine learning competition currently hosted on Kaggle. The objective of this competition is to use historical loan application data to predict whether or not an applicant will be able to repay a loan. "
   ]
  },
  {
   "cell_type": "code",
   "execution_count": 63,
   "metadata": {},
   "outputs": [],
   "source": [
    "# Dependencies and Setup\n",
    "# Suppress warnings \n",
    "import warnings\n",
    "warnings.filterwarnings('ignore')\n",
    "\n",
    "import pandas as pd\n",
    "import numpy as np\n",
    "# sklearn preprocessing for dealing with categorical variables\n",
    "from sklearn.preprocessing import LabelEncoder\n",
    "import seaborn as sns\n",
    "%matplotlib inline\n",
    "import matplotlib.pyplot as plt"
   ]
  },
  {
   "cell_type": "markdown",
   "metadata": {},
   "source": [
    "## Retrieving the Data\n",
    "\n",
    "There are 7 different sources of data:\n",
    "* application_train/application_test: the main training and testing data with information about each loan application at Home Credit. Every loan has its own row and is identified by the feature SK_ID_CURR. The training application data comes with the TARGET indicating 0: the loan was repaid or 1: the loan was not repaid.\n",
    "\n",
    "* bureau: data concerning client's previous credits from other financial institutions. Each previous credit has its own row in bureau, but one loan in the application data can have multiple previous credits.\n",
    "\n",
    "* bureau_balance: monthly data about the previous credits in bureau. Each row is one month of a previous credit, and a single previous credit can have multiple rows, one for each month of the credit length.\n",
    "* previous_application: previous applications for loans at Home Credit of clients who have loans in the application data. Each current loan in the application data can have multiple previous loans. Each previous application has one row and is identified by the feature SK_ID_PREV.\n",
    "* POS_CASH_BALANCE: monthly data about previous point of sale or cash loans clients have had with Home Credit. Each row is one month of a previous point of sale or cash loan, and a single previous loan can have many rows.\n",
    "* credit_card_balance: monthly data about previous credit cards clients have had with Home Credit. Each row is one month of a credit card balance, and a single credit card can have many rows.\n",
    "* installments_payment: payment history for previous loans at Home Credit. There is one row for every made payment and one row for every missed payment."
   ]
  },
  {
   "cell_type": "code",
   "execution_count": 2,
   "metadata": {},
   "outputs": [],
   "source": [
    "# Read csv\n",
    "application_train_df = pd.read_csv(\"Resource/application_train.csv\")\n",
    "application_test_df = pd.read_csv(\"Resource/application_test.csv\")\n",
    "bureau_df = pd.read_csv(\"Resource/bureau.csv\")\n",
    "# bureau_balance_df = pd.read_csv(\"Resource/bureau_balance.csv\")\n",
    "# credit_card_balance_df  = pd.read_csv(\"Resource/credit_card_balance.csv\")\n",
    "# installments_payments_df = pd.read_csv(\"Resource/installments_payments.csv\")\n",
    "# pos_cash_df = pd.read_csv(\"Resource/POS_CASH_balance.csv\")\n",
    "# previous_application_df = pd.read_csv(\"Resource/previous_application.csv\")\n",
    "# sample_submission_df = pd.read_csv(\"Resource/sample_submission.csv\")"
   ]
  },
  {
   "cell_type": "code",
   "execution_count": null,
   "metadata": {},
   "outputs": [],
   "source": [
    "# print(application_train_df.shape)\n",
    "# print(application_test_df.shape)\n",
    "# print(bureau_balance_df.shape)\n",
    "# print(bureau_df.shape)\n",
    "# print(credit_card_balance_df.shape)\n",
    "# print(installments_payments_df.shape)\n",
    "# print(pos_cash_df.shape)\n",
    "# print(previous_application_df.shape)\n",
    "# print(sample_submission_df.shape)"
   ]
  },
  {
   "cell_type": "code",
   "execution_count": null,
   "metadata": {},
   "outputs": [],
   "source": [
    "# application_test_columns = list(application_test_df.columns)\n",
    "# bureau_balance_columns = list(bureau_balance_df.columns)\n",
    "# bureau_columns = list(bureau_df.columns)\n",
    "# credit_card_balance_columns = list(credit_card_balance_df.columns)\n",
    "# installments_payment_columns = list(installments_payments_df.columns)\n",
    "# pos_cash_columns = list(pos_cash_df.columns)\n",
    "# previous_application_columns = list(previous_application_df.columns)\n",
    "# sample_submission_columns = list(sample_submission_df.columns)"
   ]
  },
  {
   "cell_type": "code",
   "execution_count": null,
   "metadata": {},
   "outputs": [],
   "source": [
    "# print([i for i in bureau_balance_columns if i in application_test_columns])\n",
    "# print([i for i in bureau_columns if i in application_test_columns])\n",
    "# print([i for i in credit_card_balance_columns if i in application_test_columns])\n",
    "# print([i for i in installments_payment_columns if i in application_test_columns])\n",
    "# print([i for i in pos_cash_columns if i in application_test_columns])\n",
    "# print([i for i in previous_application_columns if i in application_test_columns])\n",
    "# print([i for i in sample_submission_columns if i in application_test_columns])"
   ]
  },
  {
   "cell_type": "markdown",
   "metadata": {},
   "source": [
    "* SK_ID_CURR - ID of loan in our sample - one loan in our sample can have 0,1,2 or more related previous credits in credit bureau \n",
    "* SK_BUREAU_ID - Recoded ID of previous Credit Bureau credit related to our loan (unique coding for each loan application)\n",
    "* CREDIT_ACTIVE - Status of the Credit Bureau (CB) reported credits\n",
    "* CREDIT_CURRENCY - Recoded currency of the Credit Bureau credit\n",
    "* DAYS_CREDIT - How many days before current application did client apply for Credit Bureau credit\n",
    "* CREDIT_DAY_OVERDUE - Number of days past due on CB credit at the time of application for related loan in our sample\n",
    "* DAYS_CREDIT_ENDDATE - Remaining duration of CB credit (in days) at the time of application in Home Credit\n",
    "* DAYS_ENDDATE_FACT - Days since CB credit ended at the time of application in Home Credit (only for closed credit)\n",
    "* AMT_CREDIT_MAX_OVERDUE - Maximal amount overdue on the Credit Bureau credit so far (at application date of loan in our sample)\n",
    "* CNT_CREDIT_PROLONG - How many times was the Credit Bureau credit prolonged\n",
    "* AMT_CREDIT_SUM - Current credit amount for the Credit Bureau credit\n",
    "* AMT_CREDIT_SUM_DEBT - Current debt on Credit Bureau credit\n",
    "* AMT_CREDIT_SUM_LIMIT - Current credit limit of credit card reported in Credit Bureau\n",
    "* AMT_CREDIT_SUM_OVERDUE - Current amount overdue on Credit Bureau credit\n",
    "* CREDIT_TYPE - Type of Credit Bureau credit (Car, cash,...)\n",
    "* DAYS_CREDIT_UPDATE - How many days before loan application did last information about the Credit Bureau credit come\n",
    "* AMT_ANNUITY - Annuity of the Credit Bureau credit"
   ]
  },
  {
   "cell_type": "markdown",
   "metadata": {},
   "source": [
    "## Data Exploration"
   ]
  },
  {
   "cell_type": "markdown",
   "metadata": {},
   "source": [
    "### Application Train Dataframe"
   ]
  },
  {
   "cell_type": "code",
   "execution_count": 3,
   "metadata": {},
   "outputs": [
    {
     "data": {
      "text/html": [
       "<div>\n",
       "<style scoped>\n",
       "    .dataframe tbody tr th:only-of-type {\n",
       "        vertical-align: middle;\n",
       "    }\n",
       "\n",
       "    .dataframe tbody tr th {\n",
       "        vertical-align: top;\n",
       "    }\n",
       "\n",
       "    .dataframe thead th {\n",
       "        text-align: right;\n",
       "    }\n",
       "</style>\n",
       "<table border=\"1\" class=\"dataframe\">\n",
       "  <thead>\n",
       "    <tr style=\"text-align: right;\">\n",
       "      <th></th>\n",
       "      <th>SK_ID_CURR</th>\n",
       "      <th>TARGET</th>\n",
       "      <th>NAME_CONTRACT_TYPE</th>\n",
       "      <th>CODE_GENDER</th>\n",
       "      <th>FLAG_OWN_CAR</th>\n",
       "      <th>FLAG_OWN_REALTY</th>\n",
       "      <th>CNT_CHILDREN</th>\n",
       "      <th>AMT_INCOME_TOTAL</th>\n",
       "      <th>AMT_CREDIT</th>\n",
       "      <th>AMT_ANNUITY</th>\n",
       "      <th>...</th>\n",
       "      <th>FLAG_DOCUMENT_18</th>\n",
       "      <th>FLAG_DOCUMENT_19</th>\n",
       "      <th>FLAG_DOCUMENT_20</th>\n",
       "      <th>FLAG_DOCUMENT_21</th>\n",
       "      <th>AMT_REQ_CREDIT_BUREAU_HOUR</th>\n",
       "      <th>AMT_REQ_CREDIT_BUREAU_DAY</th>\n",
       "      <th>AMT_REQ_CREDIT_BUREAU_WEEK</th>\n",
       "      <th>AMT_REQ_CREDIT_BUREAU_MON</th>\n",
       "      <th>AMT_REQ_CREDIT_BUREAU_QRT</th>\n",
       "      <th>AMT_REQ_CREDIT_BUREAU_YEAR</th>\n",
       "    </tr>\n",
       "  </thead>\n",
       "  <tbody>\n",
       "    <tr>\n",
       "      <th>0</th>\n",
       "      <td>100002</td>\n",
       "      <td>1</td>\n",
       "      <td>Cash loans</td>\n",
       "      <td>M</td>\n",
       "      <td>N</td>\n",
       "      <td>Y</td>\n",
       "      <td>0</td>\n",
       "      <td>202500.0</td>\n",
       "      <td>406597.5</td>\n",
       "      <td>24700.5</td>\n",
       "      <td>...</td>\n",
       "      <td>0</td>\n",
       "      <td>0</td>\n",
       "      <td>0</td>\n",
       "      <td>0</td>\n",
       "      <td>0.0</td>\n",
       "      <td>0.0</td>\n",
       "      <td>0.0</td>\n",
       "      <td>0.0</td>\n",
       "      <td>0.0</td>\n",
       "      <td>1.0</td>\n",
       "    </tr>\n",
       "    <tr>\n",
       "      <th>1</th>\n",
       "      <td>100003</td>\n",
       "      <td>0</td>\n",
       "      <td>Cash loans</td>\n",
       "      <td>F</td>\n",
       "      <td>N</td>\n",
       "      <td>N</td>\n",
       "      <td>0</td>\n",
       "      <td>270000.0</td>\n",
       "      <td>1293502.5</td>\n",
       "      <td>35698.5</td>\n",
       "      <td>...</td>\n",
       "      <td>0</td>\n",
       "      <td>0</td>\n",
       "      <td>0</td>\n",
       "      <td>0</td>\n",
       "      <td>0.0</td>\n",
       "      <td>0.0</td>\n",
       "      <td>0.0</td>\n",
       "      <td>0.0</td>\n",
       "      <td>0.0</td>\n",
       "      <td>0.0</td>\n",
       "    </tr>\n",
       "    <tr>\n",
       "      <th>2</th>\n",
       "      <td>100004</td>\n",
       "      <td>0</td>\n",
       "      <td>Revolving loans</td>\n",
       "      <td>M</td>\n",
       "      <td>Y</td>\n",
       "      <td>Y</td>\n",
       "      <td>0</td>\n",
       "      <td>67500.0</td>\n",
       "      <td>135000.0</td>\n",
       "      <td>6750.0</td>\n",
       "      <td>...</td>\n",
       "      <td>0</td>\n",
       "      <td>0</td>\n",
       "      <td>0</td>\n",
       "      <td>0</td>\n",
       "      <td>0.0</td>\n",
       "      <td>0.0</td>\n",
       "      <td>0.0</td>\n",
       "      <td>0.0</td>\n",
       "      <td>0.0</td>\n",
       "      <td>0.0</td>\n",
       "    </tr>\n",
       "    <tr>\n",
       "      <th>3</th>\n",
       "      <td>100006</td>\n",
       "      <td>0</td>\n",
       "      <td>Cash loans</td>\n",
       "      <td>F</td>\n",
       "      <td>N</td>\n",
       "      <td>Y</td>\n",
       "      <td>0</td>\n",
       "      <td>135000.0</td>\n",
       "      <td>312682.5</td>\n",
       "      <td>29686.5</td>\n",
       "      <td>...</td>\n",
       "      <td>0</td>\n",
       "      <td>0</td>\n",
       "      <td>0</td>\n",
       "      <td>0</td>\n",
       "      <td>NaN</td>\n",
       "      <td>NaN</td>\n",
       "      <td>NaN</td>\n",
       "      <td>NaN</td>\n",
       "      <td>NaN</td>\n",
       "      <td>NaN</td>\n",
       "    </tr>\n",
       "    <tr>\n",
       "      <th>4</th>\n",
       "      <td>100007</td>\n",
       "      <td>0</td>\n",
       "      <td>Cash loans</td>\n",
       "      <td>M</td>\n",
       "      <td>N</td>\n",
       "      <td>Y</td>\n",
       "      <td>0</td>\n",
       "      <td>121500.0</td>\n",
       "      <td>513000.0</td>\n",
       "      <td>21865.5</td>\n",
       "      <td>...</td>\n",
       "      <td>0</td>\n",
       "      <td>0</td>\n",
       "      <td>0</td>\n",
       "      <td>0</td>\n",
       "      <td>0.0</td>\n",
       "      <td>0.0</td>\n",
       "      <td>0.0</td>\n",
       "      <td>0.0</td>\n",
       "      <td>0.0</td>\n",
       "      <td>0.0</td>\n",
       "    </tr>\n",
       "  </tbody>\n",
       "</table>\n",
       "<p>5 rows × 122 columns</p>\n",
       "</div>"
      ],
      "text/plain": [
       "   SK_ID_CURR  TARGET NAME_CONTRACT_TYPE CODE_GENDER FLAG_OWN_CAR  \\\n",
       "0      100002       1         Cash loans           M            N   \n",
       "1      100003       0         Cash loans           F            N   \n",
       "2      100004       0    Revolving loans           M            Y   \n",
       "3      100006       0         Cash loans           F            N   \n",
       "4      100007       0         Cash loans           M            N   \n",
       "\n",
       "  FLAG_OWN_REALTY  CNT_CHILDREN  AMT_INCOME_TOTAL  AMT_CREDIT  AMT_ANNUITY  \\\n",
       "0               Y             0          202500.0    406597.5      24700.5   \n",
       "1               N             0          270000.0   1293502.5      35698.5   \n",
       "2               Y             0           67500.0    135000.0       6750.0   \n",
       "3               Y             0          135000.0    312682.5      29686.5   \n",
       "4               Y             0          121500.0    513000.0      21865.5   \n",
       "\n",
       "   ...  FLAG_DOCUMENT_18 FLAG_DOCUMENT_19 FLAG_DOCUMENT_20 FLAG_DOCUMENT_21  \\\n",
       "0  ...                 0                0                0                0   \n",
       "1  ...                 0                0                0                0   \n",
       "2  ...                 0                0                0                0   \n",
       "3  ...                 0                0                0                0   \n",
       "4  ...                 0                0                0                0   \n",
       "\n",
       "  AMT_REQ_CREDIT_BUREAU_HOUR AMT_REQ_CREDIT_BUREAU_DAY  \\\n",
       "0                        0.0                       0.0   \n",
       "1                        0.0                       0.0   \n",
       "2                        0.0                       0.0   \n",
       "3                        NaN                       NaN   \n",
       "4                        0.0                       0.0   \n",
       "\n",
       "   AMT_REQ_CREDIT_BUREAU_WEEK  AMT_REQ_CREDIT_BUREAU_MON  \\\n",
       "0                         0.0                        0.0   \n",
       "1                         0.0                        0.0   \n",
       "2                         0.0                        0.0   \n",
       "3                         NaN                        NaN   \n",
       "4                         0.0                        0.0   \n",
       "\n",
       "   AMT_REQ_CREDIT_BUREAU_QRT  AMT_REQ_CREDIT_BUREAU_YEAR  \n",
       "0                        0.0                         1.0  \n",
       "1                        0.0                         0.0  \n",
       "2                        0.0                         0.0  \n",
       "3                        NaN                         NaN  \n",
       "4                        0.0                         0.0  \n",
       "\n",
       "[5 rows x 122 columns]"
      ]
     },
     "execution_count": 3,
     "metadata": {},
     "output_type": "execute_result"
    }
   ],
   "source": [
    "application_train_df.head()"
   ]
  },
  {
   "cell_type": "code",
   "execution_count": 4,
   "metadata": {},
   "outputs": [
    {
     "name": "stdout",
     "output_type": "stream",
     "text": [
      "(307511, 122)\n",
      "<class 'pandas.core.frame.DataFrame'>\n",
      "RangeIndex: 307511 entries, 0 to 307510\n",
      "Columns: 122 entries, SK_ID_CURR to AMT_REQ_CREDIT_BUREAU_YEAR\n",
      "dtypes: float64(65), int64(41), object(16)\n",
      "memory usage: 286.2+ MB\n",
      "None\n"
     ]
    }
   ],
   "source": [
    "print(application_train_df.shape)\n",
    "print(application_train_df.info())"
   ]
  },
  {
   "cell_type": "code",
   "execution_count": 5,
   "metadata": {},
   "outputs": [],
   "source": [
    "# calculate the data missing percentage\n",
    "application_train_df = application_train_df.drop_duplicates()\n",
    "application_train_df_missing = application_train_df.isna()\n",
    "application_train_df_num_missing = application_train_df_missing.sum()\n",
    "missing_percent = application_train_df_num_missing/len(application_train_df)*100"
   ]
  },
  {
   "cell_type": "code",
   "execution_count": 6,
   "metadata": {},
   "outputs": [
    {
     "data": {
      "text/html": [
       "<div>\n",
       "<style scoped>\n",
       "    .dataframe tbody tr th:only-of-type {\n",
       "        vertical-align: middle;\n",
       "    }\n",
       "\n",
       "    .dataframe tbody tr th {\n",
       "        vertical-align: top;\n",
       "    }\n",
       "\n",
       "    .dataframe thead th {\n",
       "        text-align: right;\n",
       "    }\n",
       "</style>\n",
       "<table border=\"1\" class=\"dataframe\">\n",
       "  <thead>\n",
       "    <tr style=\"text-align: right;\">\n",
       "      <th></th>\n",
       "      <th>Missing Percentage (%)</th>\n",
       "    </tr>\n",
       "  </thead>\n",
       "  <tbody>\n",
       "    <tr>\n",
       "      <th>COMMONAREA_MEDI</th>\n",
       "      <td>69.872297</td>\n",
       "    </tr>\n",
       "    <tr>\n",
       "      <th>COMMONAREA_AVG</th>\n",
       "      <td>69.872297</td>\n",
       "    </tr>\n",
       "    <tr>\n",
       "      <th>COMMONAREA_MODE</th>\n",
       "      <td>69.872297</td>\n",
       "    </tr>\n",
       "    <tr>\n",
       "      <th>NONLIVINGAPARTMENTS_MODE</th>\n",
       "      <td>69.432963</td>\n",
       "    </tr>\n",
       "    <tr>\n",
       "      <th>NONLIVINGAPARTMENTS_AVG</th>\n",
       "      <td>69.432963</td>\n",
       "    </tr>\n",
       "    <tr>\n",
       "      <th>NONLIVINGAPARTMENTS_MEDI</th>\n",
       "      <td>69.432963</td>\n",
       "    </tr>\n",
       "    <tr>\n",
       "      <th>FONDKAPREMONT_MODE</th>\n",
       "      <td>68.386172</td>\n",
       "    </tr>\n",
       "    <tr>\n",
       "      <th>LIVINGAPARTMENTS_MODE</th>\n",
       "      <td>68.354953</td>\n",
       "    </tr>\n",
       "    <tr>\n",
       "      <th>LIVINGAPARTMENTS_AVG</th>\n",
       "      <td>68.354953</td>\n",
       "    </tr>\n",
       "    <tr>\n",
       "      <th>LIVINGAPARTMENTS_MEDI</th>\n",
       "      <td>68.354953</td>\n",
       "    </tr>\n",
       "    <tr>\n",
       "      <th>FLOORSMIN_AVG</th>\n",
       "      <td>67.848630</td>\n",
       "    </tr>\n",
       "    <tr>\n",
       "      <th>FLOORSMIN_MODE</th>\n",
       "      <td>67.848630</td>\n",
       "    </tr>\n",
       "    <tr>\n",
       "      <th>FLOORSMIN_MEDI</th>\n",
       "      <td>67.848630</td>\n",
       "    </tr>\n",
       "    <tr>\n",
       "      <th>YEARS_BUILD_MEDI</th>\n",
       "      <td>66.497784</td>\n",
       "    </tr>\n",
       "    <tr>\n",
       "      <th>YEARS_BUILD_MODE</th>\n",
       "      <td>66.497784</td>\n",
       "    </tr>\n",
       "    <tr>\n",
       "      <th>YEARS_BUILD_AVG</th>\n",
       "      <td>66.497784</td>\n",
       "    </tr>\n",
       "    <tr>\n",
       "      <th>OWN_CAR_AGE</th>\n",
       "      <td>65.990810</td>\n",
       "    </tr>\n",
       "    <tr>\n",
       "      <th>LANDAREA_MEDI</th>\n",
       "      <td>59.376738</td>\n",
       "    </tr>\n",
       "    <tr>\n",
       "      <th>LANDAREA_MODE</th>\n",
       "      <td>59.376738</td>\n",
       "    </tr>\n",
       "    <tr>\n",
       "      <th>LANDAREA_AVG</th>\n",
       "      <td>59.376738</td>\n",
       "    </tr>\n",
       "  </tbody>\n",
       "</table>\n",
       "</div>"
      ],
      "text/plain": [
       "                          Missing Percentage (%)\n",
       "COMMONAREA_MEDI                        69.872297\n",
       "COMMONAREA_AVG                         69.872297\n",
       "COMMONAREA_MODE                        69.872297\n",
       "NONLIVINGAPARTMENTS_MODE               69.432963\n",
       "NONLIVINGAPARTMENTS_AVG                69.432963\n",
       "NONLIVINGAPARTMENTS_MEDI               69.432963\n",
       "FONDKAPREMONT_MODE                     68.386172\n",
       "LIVINGAPARTMENTS_MODE                  68.354953\n",
       "LIVINGAPARTMENTS_AVG                   68.354953\n",
       "LIVINGAPARTMENTS_MEDI                  68.354953\n",
       "FLOORSMIN_AVG                          67.848630\n",
       "FLOORSMIN_MODE                         67.848630\n",
       "FLOORSMIN_MEDI                         67.848630\n",
       "YEARS_BUILD_MEDI                       66.497784\n",
       "YEARS_BUILD_MODE                       66.497784\n",
       "YEARS_BUILD_AVG                        66.497784\n",
       "OWN_CAR_AGE                            65.990810\n",
       "LANDAREA_MEDI                          59.376738\n",
       "LANDAREA_MODE                          59.376738\n",
       "LANDAREA_AVG                           59.376738"
      ]
     },
     "execution_count": 6,
     "metadata": {},
     "output_type": "execute_result"
    }
   ],
   "source": [
    "#missing data percentage output\n",
    "missing_percent_df = missing_percent.to_frame(name=\"Missing Percentage (%)\")\n",
    "missing_percent_df = missing_percent_df.sort_values(by=\"Missing Percentage (%)\",ascending=False)\n",
    "missing_percent_df.head(20)"
   ]
  },
  {
   "cell_type": "markdown",
   "metadata": {},
   "source": [
    "The Training Data frame has a high volume of missing data, we in order to make a relative acurrate training, we will keep all the data for right now and drop it later after feature selection step or try to fill the missing data by XGBoost"
   ]
  },
  {
   "cell_type": "markdown",
   "metadata": {},
   "source": [
    "### Step 1: Data Cleaning & Preprocessing\n",
    "Try to screen each column and determine if the datatype or values are useful as feature in further data process"
   ]
  },
  {
   "cell_type": "markdown",
   "metadata": {},
   "source": [
    "* #### Check age outlier"
   ]
  },
  {
   "cell_type": "code",
   "execution_count": 7,
   "metadata": {},
   "outputs": [
    {
     "data": {
      "text/plain": [
       "count    307511.000000\n",
       "mean         43.936973\n",
       "std          11.956133\n",
       "min          20.517808\n",
       "25%          34.008219\n",
       "50%          43.150685\n",
       "75%          53.923288\n",
       "max          69.120548\n",
       "Name: DAYS_BIRTH, dtype: float64"
      ]
     },
     "execution_count": 7,
     "metadata": {},
     "output_type": "execute_result"
    }
   ],
   "source": [
    "age = application_train_df.DAYS_BIRTH/-365\n",
    "age.describe()"
   ]
  },
  {
   "cell_type": "markdown",
   "metadata": {},
   "source": [
    "* #### Check days employed outlier"
   ]
  },
  {
   "cell_type": "code",
   "execution_count": 8,
   "metadata": {},
   "outputs": [
    {
     "data": {
      "text/plain": [
       "count    307511.000000\n",
       "mean       -174.835742\n",
       "std         387.056895\n",
       "min       -1000.665753\n",
       "25%           0.791781\n",
       "50%           3.323288\n",
       "75%           7.561644\n",
       "max          49.073973\n",
       "Name: DAYS_EMPLOYED, dtype: float64"
      ]
     },
     "execution_count": 8,
     "metadata": {},
     "output_type": "execute_result"
    }
   ],
   "source": [
    "employ_days = application_train_df.DAYS_EMPLOYED/-365\n",
    "employ_days.describe()"
   ]
  },
  {
   "cell_type": "markdown",
   "metadata": {},
   "source": [
    "The employ days 365343 seems like a default value, we remove the value of 365343 check the rest of the values"
   ]
  },
  {
   "cell_type": "code",
   "execution_count": 9,
   "metadata": {},
   "outputs": [
    {
     "data": {
      "text/plain": [
       "count    252137.000000\n",
       "mean          6.531971\n",
       "std           6.406466\n",
       "min          -0.000000\n",
       "25%           2.101370\n",
       "50%           4.515068\n",
       "75%           8.698630\n",
       "max          49.073973\n",
       "Name: DAYS_EMPLOYED, dtype: float64"
      ]
     },
     "execution_count": 9,
     "metadata": {},
     "output_type": "execute_result"
    }
   ],
   "source": [
    "application_train_df.DAYS_EMPLOYED.replace({365243: np.nan}, inplace = True)\n",
    "employ_days_remove = application_train_df.DAYS_EMPLOYED/-365\n",
    "employ_days_remove.describe()"
   ]
  },
  {
   "cell_type": "markdown",
   "metadata": {},
   "source": [
    "The employ days becomes normal after we use NaN to replace 365343"
   ]
  },
  {
   "cell_type": "markdown",
   "metadata": {},
   "source": [
    "* #### Check days of registration outlier"
   ]
  },
  {
   "cell_type": "code",
   "execution_count": 10,
   "metadata": {},
   "outputs": [
    {
     "data": {
      "text/plain": [
       "count    307511.000000\n",
       "mean         13.660604\n",
       "std           9.651743\n",
       "min          -0.000000\n",
       "25%           5.506849\n",
       "50%          12.339726\n",
       "75%          20.491781\n",
       "max          67.594521\n",
       "Name: DAYS_REGISTRATION, dtype: float64"
      ]
     },
     "execution_count": 10,
     "metadata": {},
     "output_type": "execute_result"
    }
   ],
   "source": [
    "registration_days = application_train_df.DAYS_REGISTRATION/-365\n",
    "registration_days.describe()"
   ]
  },
  {
   "cell_type": "markdown",
   "metadata": {},
   "source": [
    "* #### Check days of ID publish outlier"
   ]
  },
  {
   "cell_type": "code",
   "execution_count": 11,
   "metadata": {},
   "outputs": [
    {
     "data": {
      "text/plain": [
       "count    307511.000000\n",
       "mean          8.203294\n",
       "std           4.135481\n",
       "min          -0.000000\n",
       "25%           4.712329\n",
       "50%           8.915068\n",
       "75%          11.778082\n",
       "max          19.717808\n",
       "Name: DAYS_ID_PUBLISH, dtype: float64"
      ]
     },
     "execution_count": 11,
     "metadata": {},
     "output_type": "execute_result"
    }
   ],
   "source": [
    "id_days = application_train_df.DAYS_ID_PUBLISH/-365\n",
    "id_days.describe()"
   ]
  },
  {
   "cell_type": "markdown",
   "metadata": {},
   "source": [
    "* #### Label Encoding"
   ]
  },
  {
   "cell_type": "code",
   "execution_count": 12,
   "metadata": {},
   "outputs": [
    {
     "data": {
      "text/plain": [
       "float64    66\n",
       "int64      40\n",
       "object     16\n",
       "dtype: int64"
      ]
     },
     "execution_count": 12,
     "metadata": {},
     "output_type": "execute_result"
    }
   ],
   "source": [
    "application_train_df.dtypes.value_counts()"
   ]
  },
  {
   "cell_type": "code",
   "execution_count": 13,
   "metadata": {},
   "outputs": [
    {
     "name": "stdout",
     "output_type": "stream",
     "text": [
      "NAME_CONTRACT_TYPE\n",
      "FLAG_OWN_CAR\n",
      "FLAG_OWN_REALTY\n"
     ]
    }
   ],
   "source": [
    "#convert all categorical variables to encoding variables\n",
    "label_encoder = LabelEncoder()\n",
    "\n",
    "for i in application_train_df:\n",
    "    if application_train_df[i].dtype == 'object': \n",
    "        if len(list(application_train_df[i].unique())) <= 2:\n",
    "            label_encoder.fit(application_train_df[i])\n",
    "            application_train_df[i] = label_encoder.transform(application_train_df[i])\n",
    "            application_test_df[i] = label_encoder.transform(application_test_df[i])\n",
    "            print(i)"
   ]
  },
  {
   "cell_type": "code",
   "execution_count": 14,
   "metadata": {},
   "outputs": [
    {
     "name": "stdout",
     "output_type": "stream",
     "text": [
      "(307511, 243)\n",
      "(48744, 239)\n"
     ]
    }
   ],
   "source": [
    "# one-hot encoding of categorical variables larger than two unique values, snce we don`t want to add any weight \n",
    "# on the categorical variables\n",
    "application_train_df = pd.get_dummies(application_train_df)\n",
    "application_test_df = pd.get_dummies(application_test_df)\n",
    "print(application_train_df.shape)\n",
    "print(application_test_df.shape)"
   ]
  },
  {
   "cell_type": "code",
   "execution_count": 17,
   "metadata": {},
   "outputs": [
    {
     "name": "stdout",
     "output_type": "stream",
     "text": [
      "Training Features shape:  (307511, 240)\n",
      "Testing Features shape:  (48744, 239)\n"
     ]
    }
   ],
   "source": [
    "#Aligning Training and Testing Data\n",
    "train_labels = application_train_df.TARGET\n",
    "\n",
    "# Align the training and testing data, keep only columns present in both dataframes\n",
    "application_train_df, application_test_df = application_train_df.align(application_test_df, join = 'inner', axis = 1)\n",
    "\n",
    "# Add the target back in\n",
    "application_train_df['TARGET'] = train_labels\n",
    "\n",
    "print('Training Features shape: ', application_train_df.shape)\n",
    "print('Testing Features shape: ', application_test_df.shape)"
   ]
  },
  {
   "cell_type": "code",
   "execution_count": null,
   "metadata": {},
   "outputs": [],
   "source": []
  },
  {
   "cell_type": "markdown",
   "metadata": {},
   "source": [
    "### Step 2: Feature Selection"
   ]
  },
  {
   "cell_type": "markdown",
   "metadata": {},
   "source": [
    "#### 1. Filter Method\n",
    "#### Pearson correlation"
   ]
  },
  {
   "cell_type": "markdown",
   "metadata": {},
   "source": [
    "Here we will first plot the Pearson correlation heatmap and see the correlation of independent variables with the output variable MEDV. We will only select features which has correlation of above 0.5 (taking absolute value) with the output variable.\n",
    "\n",
    "The correlation coefficient has values between -1 to 1\n",
    "* A value closer to 0 implies weaker correlation (exact 0 implying no correlation)\n",
    "* A value closer to 1 implies stronger positive correlation\n",
    "* A value closer to -1 implies stronger negative correlation\n",
    "\n",
    "or\n",
    "\n",
    "* 00-.19 “very weak”\n",
    "* .20-.39 “weak”\n",
    "* .40-.59 “moderate”\n",
    "* .60-.79 “strong”\n",
    "* .80-1.0 “very strong”"
   ]
  },
  {
   "cell_type": "code",
   "execution_count": 24,
   "metadata": {},
   "outputs": [],
   "source": [
    "# Generating the correlation matrix\n",
    "# Set SK_ID_CURR as index\n",
    "app_train_df = application_train_df.copy()\n",
    "app_train_df = app_train_df.set_index('SK_ID_CURR')\n",
    "app_test_df = application_test_df.copy()\n",
    "app_test_df = app_test_df.set_index('SK_ID_CURR')"
   ]
  },
  {
   "cell_type": "code",
   "execution_count": 39,
   "metadata": {},
   "outputs": [
    {
     "name": "stdout",
     "output_type": "stream",
     "text": [
      "TARGET                                               1.000000\n",
      "EXT_SOURCE_3                                         0.178919\n",
      "EXT_SOURCE_2                                         0.160472\n",
      "EXT_SOURCE_1                                         0.155317\n",
      "DAYS_BIRTH                                           0.078239\n",
      "DAYS_EMPLOYED                                        0.074958\n",
      "REGION_RATING_CLIENT_W_CITY                          0.060893\n",
      "REGION_RATING_CLIENT                                 0.058899\n",
      "NAME_INCOME_TYPE_Working                             0.057481\n",
      "NAME_EDUCATION_TYPE_Higher education                 0.056593\n",
      "DAYS_LAST_PHONE_CHANGE                               0.055218\n",
      "CODE_GENDER_M                                        0.054713\n",
      "CODE_GENDER_F                                        0.054704\n",
      "DAYS_ID_PUBLISH                                      0.051457\n",
      "REG_CITY_NOT_WORK_CITY                               0.050994\n",
      "NAME_EDUCATION_TYPE_Secondary / secondary special    0.049824\n",
      "NAME_INCOME_TYPE_Pensioner                           0.046209\n",
      "ORGANIZATION_TYPE_XNA                                0.045987\n",
      "FLAG_EMP_PHONE                                       0.045982\n",
      "REG_CITY_NOT_LIVE_CITY                               0.044395\n",
      "Name: TARGET, dtype: float64\n",
      "ORGANIZATION_TYPE_Trade: type 5             0.000904\n",
      "ORGANIZATION_TYPE_Transport: type 2         0.000839\n",
      "AMT_REQ_CREDIT_BUREAU_WEEK                  0.000788\n",
      "FLAG_DOCUMENT_12                            0.000756\n",
      "ORGANIZATION_TYPE_Telecom                   0.000712\n",
      "ORGANIZATION_TYPE_Industry: type 6          0.000652\n",
      "WALLSMATERIAL_MODE_Others                   0.000628\n",
      "FLAG_MOBIL                                  0.000534\n",
      "ORGANIZATION_TYPE_Housing                   0.000464\n",
      "NAME_TYPE_SUITE_Group of people             0.000452\n",
      "WEEKDAY_APPR_PROCESS_START_THURSDAY         0.000446\n",
      "OCCUPATION_TYPE_Realty agents               0.000394\n",
      "FLAG_CONT_MOBILE                            0.000370\n",
      "ORGANIZATION_TYPE_Business Entity Type 1    0.000339\n",
      "FLAG_DOCUMENT_5                             0.000316\n",
      "NAME_HOUSING_TYPE_Co-op apartment           0.000312\n",
      "ORGANIZATION_TYPE_Legal Services            0.000236\n",
      "FLAG_DOCUMENT_20                            0.000215\n",
      "ORGANIZATION_TYPE_Advertising               0.000117\n",
      "ORGANIZATION_TYPE_Industry: type 7          0.000094\n",
      "Name: TARGET, dtype: float64\n"
     ]
    }
   ],
   "source": [
    "#generating the correlation matrix\n",
    "corr = app_train_df.corr()\n",
    "#Correlation with output variable\n",
    "cor_target = abs(corr[\"TARGET\"])\n",
    "type(cor_target)\n",
    "correlation=cor_target.sort_values(ascending=False)\n",
    "print(correlation.head(20))\n",
    "print(correlation.tail(20))"
   ]
  },
  {
   "cell_type": "markdown",
   "metadata": {},
   "source": [
    "Next, we compare the correlation between features and remove one of two features that have a correlation higher than 0.9"
   ]
  },
  {
   "cell_type": "code",
   "execution_count": 89,
   "metadata": {},
   "outputs": [
    {
     "data": {
      "image/png": "[encoded data removed]",
      "text/plain": [
       "<Figure size 864x576 with 1 Axes>"
      ]
     },
     "metadata": {
      "needs_background": "light"
     },
     "output_type": "display_data"
    }
   ],
   "source": [
    "# convert top 20 correlation to df\n",
    "df_corr = correlation.head(20).to_frame(name=\"Correlation\")\n",
    "df_corr = df_corr[1:].sort_values(by='Correlation',ascending=True)\n",
    "df_corr.plot(kind = 'barh',figsize = (12,8))\n",
    "plt.show()"
   ]
  },
  {
   "cell_type": "code",
   "execution_count": null,
   "metadata": {},
   "outputs": [],
   "source": []
  },
  {
   "cell_type": "markdown",
   "metadata": {},
   "source": [
    "### bureau dataset"
   ]
  },
  {
   "cell_type": "code",
   "execution_count": null,
   "metadata": {},
   "outputs": [],
   "source": [
    "bureau_df.head()"
   ]
  },
  {
   "cell_type": "code",
   "execution_count": null,
   "metadata": {},
   "outputs": [],
   "source": [
    "bureau_df.count()"
   ]
  },
  {
   "cell_type": "code",
   "execution_count": null,
   "metadata": {},
   "outputs": [],
   "source": []
  }
 ],
 "metadata": {
  "kernelspec": {
   "display_name": "Python 3",
   "language": "python",
   "name": "python3"
  },
  "language_info": {
   "codemirror_mode": {
    "name": "ipython",
    "version": 3
   },
   "file_extension": ".py",
   "mimetype": "text/x-python",
   "name": "python",
   "nbconvert_exporter": "python",
   "pygments_lexer": "ipython3",
   "version": "3.7.4"
  }
 },
 "nbformat": 4,
 "nbformat_minor": 4
}
